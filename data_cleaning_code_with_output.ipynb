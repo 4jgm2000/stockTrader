{
 "cells": [
  {
   "cell_type": "code",
   "execution_count": 1,
   "metadata": {},
   "outputs": [],
   "source": [
    "#for data cleaning, manipulation, and visualization\n",
    "import csv\n",
    "import numpy as np\n",
    "import pandas as pd\n",
    "import matplotlib.pyplot as plt \n",
    "#for iterating through the files in directory\n",
    "import os\n",
    "#for printing in a more human-friendly format\n",
    "import pprint\n",
    "#for calculating time needed for cleaning\n",
    "import time\n",
    "#for storing final dictionary\n",
    "import json"
   ]
  },
  {
   "cell_type": "code",
   "execution_count": 22,
   "metadata": {},
   "outputs": [
    {
     "name": "stdout",
     "output_type": "stream",
     "text": [
      "Time taken: 4.690845529238383 minutes.\n"
     ]
    }
   ],
   "source": [
    "# GENERAL NOTES:\r\n",
    "# \r\n",
    "# total_stock_data is a dictionary where the keys are the stock symbol (i.e. 'AAPL') and the values are specific_stock_dict\r\n",
    "# \r\n",
    "# specific_stock_dict is a dictionary where the keys are the features of the data and the values are lists of values of \r\n",
    "# the features in order such that specific_stock_dict[\"Date\"][5] corresponds to specific_stock_dict[\"High\"][5].\r\n",
    "# \r\n",
    "# The features of the data are: ['Date', 'Open', 'High', 'Low', 'Close', 'Adj Close', 'Volume']\r\n",
    "#\r\n",
    "# total_stock_data is massive; holding the entirety of it in memory may not be feasible later on.\r\n",
    "# \r\n",
    "# I commented out some of my debugging print statements so you can see their output if you wish.\r\n",
    "# \r\n",
    "# On my machine, I managed to cut down runtime to 4.6 minutes\r\n",
    "# \r\n",
    "# The following code should load total_stock_data back into memory:\r\n",
    "# \r\n",
    "# with open('total_stock_data.json') as json_file:\r\n",
    "#     total_stock_data = json.load(json_file)\r\n",
    "# \r\n",
    "# I've tried to comment well withougt just commenting everything. Reach out if I'm missing something/I need to clarify something!\r\n",
    "#\r\n",
    "# END GENERAL NOTES\r\n",
    "# \r\n",
    "# Absolute path of stocks folder on my machine. Should be configured to your machine.\r\n",
    "directory = r\"data\\stocks\"\r\n",
    "total_stock_data = {}\r\n",
    "start = time.time()\r\n",
    "# iterates through each stock in stocks\r\n",
    "for filename in os.listdir(directory):\r\n",
    "    filepath = directory + \"\\\\\" + filename\r\n",
    "#     print(filepath)\r\n",
    "    file = open(filepath, 'r')\r\n",
    "    reader = csv.reader(file)\r\n",
    "    \r\n",
    "#     initializations\r\n",
    "    specific_stock_dict = {}\r\n",
    "    init_features = True\r\n",
    "    features = []\r\n",
    "    print_sample_dict = True\r\n",
    "\r\n",
    "#     iterates through each row in csv\r\n",
    "    for row in reader:\r\n",
    "#         initializes the key-value pairs in dictionary\r\n",
    "        if(init_features):\r\n",
    "            for feature in row:\r\n",
    "                specific_stock_dict[feature] = []\r\n",
    "                features.append(feature)\r\n",
    "            init_features = False\r\n",
    "#         adds to each feature in chronological order\r\n",
    "        else:\r\n",
    "            i = 0\r\n",
    "            for element in row:\r\n",
    "                specific_stock_dict[features[i]].append(element)\r\n",
    "                i +=1\r\n",
    "# #     Prints sample dict for us to look at\r\n",
    "#     if (print_sample_dict):\r\n",
    "#         print(specific_stock_dict)\r\n",
    "#         print_sample_dict = False\r\n",
    "\r\n",
    "#    changes filename to stock symbol, i.e. 'AAPL.csv' -> 'AAPL'\r\n",
    "    filename = filename[: -4]\r\n",
    "#     print(\"Filename without suffix: \" + filename)\r\n",
    "\r\n",
    "#    stores specific stock dictionary in total_stock_data\r\n",
    "    total_stock_data[filename] = specific_stock_dict\r\n",
    "    \r\n",
    "# debugging print statement\r\n",
    "# print(\"Storing dictionary as JSON!\")\r\n",
    "\r\n",
    "with open(\"total_stock_data.json\", 'w') as file:\r\n",
    "    json.dump(total_stock_data, file)\r\n",
    "\r\n",
    "end = time.time()\r\n",
    "\r\n",
    "# time debugging print, left uncommented\r\n",
    "print(\"Time taken: \" + str((end-start) / 60) + \" minutes.\")"
   ]
  }
 ],
 "metadata": {
  "interpreter": {
   "hash": "ee128880c4259734786c0c07a5b9f0da116f3e4a0bfd369b9bf276472424a9b4"
  },
  "kernelspec": {
   "display_name": "Python 3.9.5 64-bit ('ml_hw2': conda)",
   "name": "python3"
  },
  "language_info": {
   "name": "python",
   "version": ""
  }
 },
 "nbformat": 4,
 "nbformat_minor": 5
}