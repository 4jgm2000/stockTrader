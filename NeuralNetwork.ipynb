{
 "cells": [
  {
   "cell_type": "code",
   "execution_count": 45,
   "id": "d3f41edf",
   "metadata": {},
   "outputs": [],
   "source": [
    "import numpy as numpy\n",
    "import pandas as pd\n",
    "import json\n",
    "import random\n",
    "from sklearn.mixture import GaussianMixture\n",
    "from keras.models import Sequential\n",
    "from keras.layers import Dense"
   ]
  },
  {
   "cell_type": "code",
   "execution_count": 46,
   "id": "a43c7a61",
   "metadata": {},
   "outputs": [],
   "source": [
    "with open('reduced_dimension_stock_data.json') as json_file:\n",
    "    stocks = json.load(json_file)"
   ]
  },
  {
   "cell_type": "code",
   "execution_count": 47,
   "id": "811bd33b",
   "metadata": {},
   "outputs": [],
   "source": [
    "indList = []\n",
    "#print(len(stocks))\n",
    "for (key,value) in stocks.items():\n",
    "    try:\n",
    "        # print(value['Date'])\n",
    "        cur = value['Date']\n",
    "        indList.append(cur.index('2019-01-02', -900, -1))\n",
    "        # cur = pd.DataFrame.from_dict(value['Date'])\n",
    "        del value['Date']\n",
    "    except Exception:\n",
    "        indList.append(0)\n",
    "        del value['Date']\n",
    "# print(indList[0:100])"
   ]
  },
  {
   "cell_type": "code",
   "execution_count": 48,
   "id": "70a790ab",
   "metadata": {},
   "outputs": [],
   "source": [
    "inputArray = pd.DataFrame.from_dict(stocks, orient='index')\n",
    "#find longest sub-array\n",
    "longest = 0\n",
    "i=0\n",
    "for (key, value) in stocks.items():\n",
    "    if (len(inputArray.loc[key].at['Open']) > longest):\n",
    "        longest = len(inputArray.loc[key].at['Open'])\n",
    "    i+=1\n",
    "#print(\"longest:\")\n",
    "#print(longest)\n",
    "#in this dataset, longest is 14665\n",
    "longest -= 365\n",
    "i=0\n",
    "err = 0\n",
    "tick = {}\n",
    "apple = None\n",
    "for (key,value) in stocks.items():\n",
    "    cur = inputArray.loc[key].at['Open']\n",
    "    inputArray.at[key,'Open'] = cur[0:indList[i]]\n",
    "    #duplicate first element to make array lengths match\n",
    "    if key == 'AAPL':apple = i\n",
    "    # print(inputArray.at[key,'Open'][0])\n",
    "    try:\n",
    "        firstEle = inputArray.at[key,'Open'][0]\n",
    "        # print(firstEle, key)\n",
    "        \n",
    "        # print(firstEle != '0.0', firstEle)\n",
    "        if (firstEle != '0.0'):\n",
    "            cre = numpy.array([firstEle for j in range(longest - len(inputArray.at[key, 'Open']))])\n",
    "            # print(cre)\n",
    "            inputArray.at[key,'Open'] = numpy.append(cre,inputArray.at[key,'Open'])\n",
    "            i+=1\n",
    "            tick[i-err] = key\n",
    "            # print(len(inputArray.at[key,'Open']) == longest)\n",
    "        else:\n",
    "            i+=1\n",
    "            err+=1\n",
    "            # print(i)\n",
    "            # inputArray.drop(i,axis=0)\n",
    "            inputArray = inputArray.drop(key)\n",
    "            # i+=1\n",
    "    except Exception:\n",
    "        i+=1\n",
    "        err+=1\n",
    "        # print(i)\n",
    "        # print('here')\n",
    "        inputArray = inputArray.drop(key)\n",
    "        # i+=1"
   ]
  },
  {
   "cell_type": "code",
   "execution_count": 49,
   "id": "5987d979",
   "metadata": {},
   "outputs": [],
   "source": [
    "# print(len(inputArray))\n",
    "arr = pd.DataFrame.to_numpy(inputArray)\n",
    "# print(numpy.shape(arr))\n",
    "# print('sjhdgadjhlfgbadsv',arr[0][0]) \n",
    "newArr = numpy.zeros((694,longest))\n",
    "# print(numpy.shape(arr), numpy.shape(arr[0]), numpy.shape(newArr))\n",
    "for i in range(694):\n",
    "    try:\n",
    "        if(i == 616): continue\n",
    "        newArr[i,:] = arr[i][0]\n",
    "    except Exception:\n",
    "        pass\n",
    "#         print(i)"
   ]
  },
  {
   "cell_type": "code",
   "execution_count": 53,
   "id": "603f8c20",
   "metadata": {},
   "outputs": [],
   "source": [
    "# difference = (newArr[:, -1] - newArr[:, 0]) / newArr[:, 0] ran into divide by zero YUCK\n",
    "difference = (newArr[:, -1] - newArr[:, 0])\n",
    "# print(difference.shape)\n",
    "# print(difference)\n",
    "ninetieth = numpy.percentile(difference, 90)\n",
    "# print(ninetieth)\n",
    "classification = difference > ninetieth\n",
    "classification = classification.astype(int)\n",
    "# print(classification)\n"
   ]
  },
  {
   "cell_type": "code",
   "execution_count": 55,
   "id": "4da46e27",
   "metadata": {},
   "outputs": [
    {
     "name": "stdout",
     "output_type": "stream",
     "text": [
      "22/22 [==============================] - 0s 8ms/step - loss: 0.0595 - accuracy: 0.9827\n",
      "Accuracy: 98.27\n",
      "Recommendations: \n",
      "['AAP', 'ACN', 'ALB', 'AMT', 'AMZN', 'ANET', 'ANSS', 'ATVI', 'AVB', 'AYX', 'BHF', 'BIIB', 'BKI', 'BLDR', 'CABO', 'CHDN', 'CHRW', 'CHTR', 'CME', 'COR', 'CRM', 'DOX', 'ESRT', 'EVR', 'FCX', 'FDS', 'FEYE', 'FIVN', 'GBT', 'GNRC', 'GOOG', 'GWRE', 'HCA', 'HIG', 'HUBS', 'HZNP', 'ICE', 'ICUI', 'INTC', 'IOVA', 'IRM', 'LECO', 'LHX', 'LYV', 'MET', 'MKSI', 'MKTX', 'MMC', 'MTCH', 'MTG', 'NFG', 'NVDA', 'ORCL', 'PODD', 'RCL', 'REG', 'ROKU', 'SAIC', 'SPG', 'STWD', 'TDC', 'TDOC', 'TPX', 'TSCO', 'UAL', 'UI', 'VRT', 'WAL']\n"
     ]
    }
   ],
   "source": [
    "model = Sequential()\n",
    "model.add(Dense(500, input_dim = 14300, activation = 'relu'))\n",
    "model.add(Dense(400, activation='relu'))\n",
    "model.add(Dense(300, activation='relu'))\n",
    "model.add(Dense(200, activation='relu'))\n",
    "model.add(Dense(100, activation='relu'))\n",
    "model.add(Dense(1, activation='sigmoid'))\n",
    "\n",
    "X = newArr\n",
    "y = classification\n",
    "\n",
    "model.compile(loss='binary_crossentropy', optimizer='adam', metrics=['accuracy'])\n",
    "\n",
    "model.fit(X, y, epochs=150, batch_size=10, verbose=0)\n",
    "\n",
    "_, accuracy = model.evaluate(X, y)\n",
    "\n",
    "print('Accuracy: %.2f' % (accuracy*100))\n",
    "\n",
    "predictions = model.predict_classes(X)\n",
    "\n",
    "recommendations = []\n",
    "\n",
    "for i in range(694):\n",
    "#     print('%d (expected %d)' % ( predictions[i], y[i]))\n",
    "    if (predictions[i] == 1):\n",
    "        recommendations.append(tick[i])\n",
    "\n",
    "print(\"Recommendations: \")\n",
    "print(recommendations)\n",
    "# print(len(recommendations))\n",
    "        \n",
    "    "
   ]
  }
 ],
 "metadata": {
  "kernelspec": {
   "display_name": "Python 3",
   "language": "python",
   "name": "python3"
  },
  "language_info": {
   "codemirror_mode": {
    "name": "ipython",
    "version": 3
   },
   "file_extension": ".py",
   "mimetype": "text/x-python",
   "name": "python",
   "nbconvert_exporter": "python",
   "pygments_lexer": "ipython3",
   "version": "3.8.8"
  }
 },
 "nbformat": 4,
 "nbformat_minor": 5
}
